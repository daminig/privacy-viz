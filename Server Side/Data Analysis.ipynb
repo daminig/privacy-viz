{
 "cells": [
  {
   "cell_type": "code",
   "execution_count": 1,
   "metadata": {
    "collapsed": true
   },
   "outputs": [],
   "source": [
    "import json\n",
    "import pandas as pd\n",
    "import copy\n",
    "import datetime\n",
    "import time\n",
    "import math"
   ]
  },
  {
   "cell_type": "code",
   "execution_count": 2,
   "metadata": {
    "collapsed": false
   },
   "outputs": [],
   "source": [
    "\"\"\" The function takes in the search history and list of cookies\n",
    "    and shorten the urls for comparisons and graph node outputs. \"\"\"\n",
    "def shorten_urls(short_history, short_cookies):\n",
    "    for i in short_history:\n",
    "        if 'url' in i:\n",
    "            i['url'] = i['url'].split('/')[2]\n",
    "    \n",
    "    for i in short_cookies:\n",
    "        if 'domain' in i:\n",
    "            i['domain'] = i['domain'].split('.')[-2]"
   ]
  },
  {
   "cell_type": "code",
   "execution_count": 3,
   "metadata": {
    "collapsed": false
   },
   "outputs": [],
   "source": [
    "#load in the json file with cookie and history information\n",
    "test_data = json.load(open('data.js'))\n",
    "\n",
    "# needed for making calls to the api to delete cookies\n",
    "history = copy.deepcopy(test_data['history'])\n",
    "cookies = copy.deepcopy(test_data['cookies'])\n",
    "\n",
    "\n",
    "#get shortened urls for cookies and history\n",
    "short_history = copy.deepcopy(history)\n",
    "short_cookies = copy.deepcopy(cookies)\n",
    "\n",
    "#shorten urls\n",
    "shorten_urls(short_history, short_cookies)"
   ]
  },
  {
   "cell_type": "code",
   "execution_count": 4,
   "metadata": {
    "collapsed": true
   },
   "outputs": [],
   "source": [
    "\"\"\" Return the number of days (x) in seconds to use for time comparisons. \"\"\"\n",
    "def calc_days_in_sec(x):\n",
    "    return x * 24 * 60 *60"
   ]
  },
  {
   "cell_type": "code",
   "execution_count": 5,
   "metadata": {
    "collapsed": true
   },
   "outputs": [],
   "source": [
    "\"\"\" Takes in the average time a cookie is placed on a computer for\n",
    "    (avg_time) and the list of cookies (cookies) to add the estimated\n",
    "    date the cookie was placed. \"\"\"\n",
    "def add_place_date(avg_time, cookies):   \n",
    "    min_place_time = calc_days_in_sec(avg_time)\n",
    "    for i in cookies:\n",
    "        if 'expirationDate' in i:\n",
    "            i['placeDate'] = i['expirationDate'] - min_place_time\n",
    "add_place_date(90, short_cookies)"
   ]
  },
  {
   "cell_type": "code",
   "execution_count": 6,
   "metadata": {
    "collapsed": true
   },
   "outputs": [],
   "source": [
    "\"\"\" Goes through the list of cookies (cookies) for a given site (STR)\n",
    "    and finds the minimum (oldest) place and maximum (most recent) expiration\n",
    "    date to find the range in which the cookies could collect data. \"\"\"\n",
    "def get_place_and_expir_date(str, cookies):\n",
    "    place_date = math.inf\n",
    "    expir_date = -math.inf\n",
    "    for i in cookies:\n",
    "        if 'domain' in i and str in i['domain'].lower() and 'expirationDate' in i:\n",
    "            place_date = min(place_date, i['placeDate'])\n",
    "            expir_date = max(expir_date, i['expirationDate'])\n",
    "    return place_date, expir_date"
   ]
  },
  {
   "cell_type": "code",
   "execution_count": 7,
   "metadata": {
    "collapsed": true
   },
   "outputs": [],
   "source": [
    "\"\"\" Takes in the the date the first cookie was placed (place_date) and the date\n",
    "    the cookie will expire (expir_date) and the browsing history (history) to \n",
    "    create a list of websites visited in time frame (in order from most recent to\n",
    "    oldest). \"\"\"\n",
    "def get_list_of_websites_visited(place_date, expir_date, history):\n",
    "    visit_List = []\n",
    "    for i in history:\n",
    "        visit_time = i['lastVisitTime'] \n",
    "        if place_date <= visit_time and visit_time >= expir_date:\n",
    "            visit_List.append(i)\n",
    "    return visit_List "
   ]
  },
  {
   "cell_type": "code",
   "execution_count": 8,
   "metadata": {
    "collapsed": true
   },
   "outputs": [],
   "source": [
    "\"\"\" Takes a list of websites visited (visit_list) which is from most to least\n",
    "    recent and return edge pairs for the graph in order of oldest to newest. \"\"\"\n",
    "def make_pairs(visit_list):\n",
    "    len_list = len(visit_list) - 1\n",
    "    pairs = []\n",
    "    while len_list > 0:\n",
    "        curr_url = visit_list[len_list]['url']\n",
    "        next_url = visit_list[len_list - 1]['url']\n",
    "        if curr_url != next_url:\n",
    "            pairs.append([curr_url, next_url])\n",
    "        len_list -= 1\n",
    "    return pairs"
   ]
  },
  {
   "cell_type": "code",
   "execution_count": 9,
   "metadata": {
    "collapsed": true
   },
   "outputs": [],
   "source": [
    "\"\"\" Takes in the website name (str) and returns a list of pairs of websites \n",
    "    visited while the cookie was in place. \"\"\"\n",
    "def get_nodes_for_cookie(str):\n",
    "    place_date, expir_date = get_place_and_expir_date(str, short_cookies)\n",
    "    visit_list = get_list_of_websites_visited(place_date, expir_date, short_history)\n",
    "    pairs_list = make_pairs(visit_list)\n",
    "    return pairs_list, place_date, expir_date"
   ]
  },
  {
   "cell_type": "code",
   "execution_count": 10,
   "metadata": {
    "collapsed": false
   },
   "outputs": [
    {
     "data": {
      "text/plain": [
       "([['bcourses.berkeley.edu', 'berkeleyforum.slack.com'],\n",
       "  ['berkeleyforum.slack.com', 'slack.com'],\n",
       "  ['slack.com', 'mail.google.com'],\n",
       "  ['mail.google.com', 'ieorpicnicgroup.slack.com'],\n",
       "  ['ieorpicnicgroup.slack.com', 'www.facebook.com'],\n",
       "  ['www.facebook.com', 'www.google.com'],\n",
       "  ['www.google.com', 'scholar.google.com'],\n",
       "  ['scholar.google.com', 'ieeexplore.ieee.org'],\n",
       "  ['ieeexplore.ieee.org', 'dl.acm.org'],\n",
       "  ['dl.acm.org', 'scholar.google.com'],\n",
       "  ['scholar.google.com', 'link.springer.com'],\n",
       "  ['link.springer.com', 'www.springer.com'],\n",
       "  ['www.springer.com', 'www.lib.berkeley.edu'],\n",
       "  ['www.lib.berkeley.edu', 'libproxy.berkeley.edu'],\n",
       "  ['libproxy.berkeley.edu', 'login.libproxy.berkeley.edu'],\n",
       "  ['login.libproxy.berkeley.edu', 'shib.berkeley.edu'],\n",
       "  ['shib.berkeley.edu', 'p8888-ucelinks.cdlib.org.libproxy.berkeley.edu'],\n",
       "  ['p8888-ucelinks.cdlib.org.libproxy.berkeley.edu', 'www.springer.com'],\n",
       "  ['www.springer.com', 'link.springer.com'],\n",
       "  ['link.springer.com', 'p8888-ucelinks.cdlib.org.libproxy.berkeley.edu'],\n",
       "  ['p8888-ucelinks.cdlib.org.libproxy.berkeley.edu', 'www.ppdm.cat'],\n",
       "  ['www.ppdm.cat', 'scholar.google.com'],\n",
       "  ['scholar.google.com', 'accounts.taylorfrancis.com'],\n",
       "  ['accounts.taylorfrancis.com', 'www.taylorfrancis.com'],\n",
       "  ['www.taylorfrancis.com', 'obamawhitehouse.archives.gov'],\n",
       "  ['obamawhitehouse.archives.gov', 'www.bbc.com'],\n",
       "  ['www.bbc.com', 'docs.google.com'],\n",
       "  ['docs.google.com', 'academic.oup.com'],\n",
       "  ['academic.oup.com', 'docs.google.com'],\n",
       "  ['docs.google.com', 'd3js.org'],\n",
       "  ['d3js.org', 'github.com'],\n",
       "  ['github.com', 'www.google.com'],\n",
       "  ['www.google.com', 'berkeley.libcal.com'],\n",
       "  ['berkeley.libcal.com', 'libauth.com'],\n",
       "  ['libauth.com', 'shib.berkeley.edu'],\n",
       "  ['shib.berkeley.edu', 'berkeley.libcal.com'],\n",
       "  ['berkeley.libcal.com', 'mail.google.com'],\n",
       "  ['mail.google.com', 'berkeley.libcal.com'],\n",
       "  ['berkeley.libcal.com', 'calendar.google.com'],\n",
       "  ['calendar.google.com', 'www.google.com'],\n",
       "  ['www.google.com', 'bl.ocks.org'],\n",
       "  ['bl.ocks.org', 'docs.google.com'],\n",
       "  ['docs.google.com', 'github.com'],\n",
       "  ['github.com', 'www.google.com'],\n",
       "  ['www.google.com', 'developer.chrome.com'],\n",
       "  ['developer.chrome.com', 'www.google.com'],\n",
       "  ['www.google.com', 'acropolis.cs.berkeley.edu'],\n",
       "  ['acropolis.cs.berkeley.edu', 'android.googlesource.com'],\n",
       "  ['android.googlesource.com', 'www.google.com'],\n",
       "  ['www.google.com', 'stackoverflow.com'],\n",
       "  ['stackoverflow.com', 'www.google.com'],\n",
       "  ['www.google.com', 'stackoverflow.com'],\n",
       "  ['stackoverflow.com', 'www.google.com'],\n",
       "  ['www.google.com', 'github.com'],\n",
       "  ['github.com', 'developer.chrome.com'],\n",
       "  ['developer.chrome.com', 'github.com'],\n",
       "  ['github.com', 'www.youtube.com'],\n",
       "  ['www.youtube.com', 'www.google.com'],\n",
       "  ['www.google.com', 'stackoverflow.com'],\n",
       "  ['stackoverflow.com', 'developer.chrome.com'],\n",
       "  ['developer.chrome.com', 'www.w3schools.com'],\n",
       "  ['www.w3schools.com', 'www.google.com'],\n",
       "  ['www.google.com', 'stackoverflow.com']],\n",
       " 1532202346.793141,\n",
       " 1587498348)"
      ]
     },
     "execution_count": 10,
     "metadata": {},
     "output_type": "execute_result"
    }
   ],
   "source": [
    "get_nodes_for_cookie('youtube')"
   ]
  },
  {
   "cell_type": "code",
   "execution_count": 11,
   "metadata": {
    "collapsed": false
   },
   "outputs": [
    {
     "name": "stdout",
     "output_type": "stream",
     "text": [
      "Number of cookies that are restrictionless 290\n"
     ]
    }
   ],
   "source": [
    "\"\"\" Return the number of cookies that aren't restricted to the website\n",
    "    that placed the cookie. \"\"\"\n",
    "def calc_num_restrictionless_cookies(cookies):    \n",
    "    no_restrict = 0\n",
    "    for i in cookies:\n",
    "        if i['hostOnly'] == False and i['sameSite'] == 'no_restriction':\n",
    "            no_restrict += 1\n",
    "    return no_restrict\n",
    "no_restrict = calc_num_restrictionless_cookies(short_cookies)\n",
    "print(\"Number of cookies that are restrictionless\", no_restrict)  "
   ]
  },
  {
   "cell_type": "code",
   "execution_count": 12,
   "metadata": {
    "collapsed": false
   },
   "outputs": [
    {
     "name": "stdout",
     "output_type": "stream",
     "text": [
      "Percentage of websites that might contain sensitive data 17.0\n"
     ]
    }
   ],
   "source": [
    "\"\"\" Calculate the percentage of websites that may contain sensitive \n",
    "    information based on the website url. \"\"\"\n",
    "def percentage_of_sensitive_information(history):\n",
    "    websites = 0\n",
    "    for i in history:\n",
    "        if 'edu' in i['url'] or 'berkeley' in i['url']:\n",
    "            websites += 1\n",
    "    return websites/len(test_data['history']) * 100\n",
    "per = percentage_of_sensitive_information(short_history)\n",
    "print(\"Percentage of websites that might contain sensitive data\", per)        "
   ]
  },
  {
   "cell_type": "code",
   "execution_count": 13,
   "metadata": {
    "collapsed": false
   },
   "outputs": [
    {
     "name": "stdout",
     "output_type": "stream",
     "text": [
      "Number of insecure cookies 392\n"
     ]
    }
   ],
   "source": [
    "\"\"\" Returns the number of cookies that are not restricted to HTTPS sites. \"\"\"\n",
    "def insecure_num_cookies(cookies):    \n",
    "    insecure = 0\n",
    "    for i in cookies:\n",
    "        if i['secure'] == False:\n",
    "            insecure += 1\n",
    "    return insecure\n",
    "insecure = insecure_num_cookies(short_cookies)\n",
    "print(\"Number of insecure cookies\", insecure)  "
   ]
  },
  {
   "cell_type": "code",
   "execution_count": 14,
   "metadata": {
    "collapsed": false
   },
   "outputs": [
    {
     "name": "stdout",
     "output_type": "stream",
     "text": [
      "63\n"
     ]
    }
   ],
   "source": [
    "visit, place_date, expir_date = get_nodes_for_cookie('facebook')\n",
    "print(len(visit))"
   ]
  },
  {
   "cell_type": "code",
   "execution_count": 15,
   "metadata": {
    "collapsed": false
   },
   "outputs": [
    {
     "name": "stdout",
     "output_type": "stream",
     "text": [
      "716.1493789215524\n"
     ]
    }
   ],
   "source": [
    "\"\"\" Takes in the expiration date of a cookie and returns the number of days\n",
    "    the cookie will remain on the laptop. \"\"\"\n",
    "def how_much_longer(expir_date):\n",
    "    current = time.time()\n",
    "    days_left = (expir_date - current)/(60*60*24)\n",
    "    return days_left\n",
    "print(how_much_longer(expir_date))  "
   ]
  },
  {
   "cell_type": "code",
   "execution_count": 16,
   "metadata": {
    "collapsed": false
   },
   "outputs": [
    {
     "name": "stdout",
     "output_type": "stream",
     "text": [
      "{'id': '47348', 'url': 'stackoverflow.com', 'visitCount': 1, 'title': 'How can I pretty-print JSON using JavaScript? - Stack Overflow', 'lastVisitTime': 1524550229203.5789, 'typedCount': 0}\n"
     ]
    }
   ],
   "source": [
    "#print format of history items\n",
    "len(test_data)\n",
    "print(short_history[0])"
   ]
  },
  {
   "cell_type": "code",
   "execution_count": 17,
   "metadata": {
    "collapsed": false
   },
   "outputs": [
    {
     "name": "stdout",
     "output_type": "stream",
     "text": [
      "{'domain': 'reserve.jacobshall.org', 'path': '/schedule/login/Reservations', 'expirationDate': 1587585931.903761, 'secure': False, 'httpOnly': False, 'sameSite': 'no_restriction', 'name': 'SS_181449_username', 'storeId': '0', 'value': 'skudtarkar%40berkeley.eduK', 'hostOnly': True, 'session': False}\n"
     ]
    }
   ],
   "source": [
    "#print format of cookies items\n",
    "print(test_data['cookies'][0])"
   ]
  },
  {
   "cell_type": "code",
   "execution_count": 18,
   "metadata": {
    "collapsed": false
   },
   "outputs": [
    {
     "name": "stdout",
     "output_type": "stream",
     "text": [
      "0\n",
      "higher than last time\n",
      "1524550229203.5789\n",
      "lower than last time\n",
      "1524550224310.732\n",
      "lower than last time\n",
      "1524550199405.6611\n",
      "lower than last time\n",
      "1524550121931.438\n",
      "lower than last time\n",
      "1524549593781.129\n",
      "lower than last time\n",
      "1524549481207.16\n",
      "lower than last time\n",
      "1524549476682.011\n",
      "lower than last time\n",
      "1524549399355.885\n",
      "lower than last time\n",
      "1524549399336.76\n",
      "lower than last time\n",
      "1524549219714.112\n",
      "lower than last time\n",
      "1524549219261.932\n",
      "lower than last time\n",
      "1524549134500.521\n",
      "lower than last time\n",
      "1524549123955.048\n",
      "lower than last time\n",
      "1524549122001.3708\n",
      "lower than last time\n",
      "1524549052496.623\n",
      "lower than last time\n",
      "1524549028480.4631\n",
      "lower than last time\n",
      "1524548794132.3918\n",
      "lower than last time\n",
      "1524548280645.653\n",
      "lower than last time\n",
      "1524548274840.4282\n",
      "lower than last time\n",
      "1524548269479.605\n",
      "lower than last time\n",
      "1524548107472.334\n",
      "lower than last time\n",
      "1524547912707.244\n",
      "lower than last time\n",
      "1524547894129.2268\n",
      "lower than last time\n",
      "1524547873993.402\n",
      "lower than last time\n",
      "1524547733573.968\n",
      "lower than last time\n",
      "1524547728887.9858\n",
      "lower than last time\n",
      "1524546971554.529\n",
      "lower than last time\n",
      "1524546891113.2122\n",
      "lower than last time\n",
      "1524546885605.184\n",
      "lower than last time\n",
      "1524546336470.795\n",
      "lower than last time\n",
      "1524546118970.1208\n",
      "lower than last time\n",
      "1524546117826.674\n",
      "lower than last time\n",
      "1524545237022.356\n",
      "lower than last time\n",
      "1524545227126.046\n",
      "lower than last time\n",
      "1524545222894.127\n",
      "lower than last time\n",
      "1524544938753.72\n",
      "lower than last time\n",
      "1524544922410.0781\n",
      "lower than last time\n",
      "1524544892457.0762\n",
      "lower than last time\n",
      "1524544890263.6052\n",
      "lower than last time\n",
      "1524544887716.758\n",
      "lower than last time\n",
      "1524544884030.167\n",
      "lower than last time\n",
      "1524544871647.9011\n",
      "lower than last time\n",
      "1524544870904.175\n",
      "lower than last time\n",
      "1524544869625.867\n",
      "lower than last time\n",
      "1524544857511.646\n",
      "lower than last time\n",
      "1524544852625.376\n",
      "lower than last time\n",
      "1524544232972.285\n",
      "lower than last time\n",
      "1524544112224.163\n",
      "lower than last time\n",
      "1524544105006.468\n",
      "lower than last time\n",
      "1524543642054.669\n",
      "lower than last time\n",
      "1524543617570.302\n",
      "lower than last time\n",
      "1524543613699.921\n",
      "lower than last time\n",
      "1524543610593.2861\n",
      "lower than last time\n",
      "1524543594203.6008\n",
      "lower than last time\n",
      "1524543394069.138\n",
      "lower than last time\n",
      "1524543392568.482\n",
      "lower than last time\n",
      "1524543392097.158\n",
      "lower than last time\n",
      "1524543391116.333\n",
      "lower than last time\n",
      "1524543390657.8071\n",
      "lower than last time\n",
      "1524543389429.463\n",
      "lower than last time\n",
      "1524543388536.724\n",
      "lower than last time\n",
      "1524543388085.69\n",
      "lower than last time\n",
      "1524543387061.409\n",
      "lower than last time\n",
      "1524543386579.491\n",
      "lower than last time\n",
      "1524543266089.3901\n",
      "lower than last time\n",
      "1524543142461.354\n",
      "lower than last time\n",
      "1524543049313.398\n",
      "lower than last time\n",
      "1524543024191.545\n",
      "lower than last time\n",
      "1524543002085.652\n",
      "lower than last time\n",
      "1524542961401.761\n",
      "lower than last time\n",
      "1524542938843.426\n",
      "lower than last time\n",
      "1524542935060.633\n",
      "lower than last time\n",
      "1524542924502.975\n",
      "lower than last time\n",
      "1524542876066.753\n",
      "lower than last time\n",
      "1524542864651.561\n",
      "lower than last time\n",
      "1524542863989.0771\n",
      "lower than last time\n",
      "1524542863126.3398\n",
      "lower than last time\n",
      "1524542845123.985\n",
      "lower than last time\n",
      "1524542832036.17\n",
      "lower than last time\n",
      "1524542802469.421\n",
      "lower than last time\n",
      "1524542561975.658\n",
      "lower than last time\n",
      "1524542550899.51\n",
      "lower than last time\n",
      "1524542546774.404\n",
      "lower than last time\n",
      "1524542541938.387\n",
      "lower than last time\n",
      "1524542466050.3672\n",
      "lower than last time\n",
      "1524542416435.8572\n",
      "lower than last time\n",
      "1524541798733.474\n",
      "lower than last time\n",
      "1524541793816.4958\n",
      "lower than last time\n",
      "1524541494720.157\n",
      "lower than last time\n",
      "1524541160759.404\n",
      "lower than last time\n",
      "1524541160146.497\n",
      "lower than last time\n",
      "1524541154389.79\n",
      "lower than last time\n",
      "1524541152762.124\n",
      "higher than last time\n",
      "1524541152762.124\n",
      "lower than last time\n",
      "1524541130248.709\n",
      "lower than last time\n",
      "1524541103375.012\n",
      "lower than last time\n",
      "1524541088058.34\n",
      "lower than last time\n",
      "1524541085001.708\n",
      "lower than last time\n",
      "1524540735838.0388\n",
      "lower than last time\n"
     ]
    }
   ],
   "source": [
    "#print the comparison to determine order of history\n",
    "last_time = 0\n",
    "for i in short_history:\n",
    "    #print(i['url'])\n",
    "    #print(datetime.datetime.utcfromtimestamp(i['lastVisitTime']))\n",
    "    print(last_time)\n",
    "    if last_time <= i['lastVisitTime']:\n",
    "        print('higher than last time')\n",
    "    else:\n",
    "        print('lower than last time')\n",
    "    last_time = i['lastVisitTime']    "
   ]
  }
 ],
 "metadata": {
  "anaconda-cloud": {},
  "kernelspec": {
   "display_name": "Python [conda env:anaconda]",
   "language": "python",
   "name": "conda-env-anaconda-py"
  },
  "language_info": {
   "codemirror_mode": {
    "name": "ipython",
    "version": 3
   },
   "file_extension": ".py",
   "mimetype": "text/x-python",
   "name": "python",
   "nbconvert_exporter": "python",
   "pygments_lexer": "ipython3",
   "version": "3.5.2"
  }
 },
 "nbformat": 4,
 "nbformat_minor": 2
}
